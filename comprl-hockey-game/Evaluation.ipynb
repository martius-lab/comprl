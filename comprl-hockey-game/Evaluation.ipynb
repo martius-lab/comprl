{
 "cells": [
  {
   "cell_type": "code",
   "execution_count": null,
   "id": "28af8a85",
   "metadata": {
    "ExecuteTime": {
     "end_time": "2021-03-16T10:22:34.318373Z",
     "start_time": "2021-03-16T10:22:34.314063Z"
    }
   },
   "outputs": [],
   "source": [
    "import matplotlib.pyplot as plt\n",
    "import seaborn as sns\n",
    "import sqlalchemy as sa\n",
    "from comprl.server.data.sql_backend import User, Game, get_user_pair_statistics"
   ]
  },
  {
   "cell_type": "markdown",
   "id": "dc532868",
   "metadata": {},
   "source": [
    "# 24h Tournament"
   ]
  },
  {
   "cell_type": "code",
   "execution_count": null,
   "id": "121c02b5-9793-4720-94aa-ca9c052b623e",
   "metadata": {},
   "outputs": [],
   "source": [
    "# Adjust path to database here, then let everything run\n",
    "database_path = \"/home/felixwidmaier/projects/comprl/hockey_backup_2025-02-24.db\"\n",
    "engine = sa.create_engine(f\"sqlite:///{database_path}\")"
   ]
  },
  {
   "cell_type": "code",
   "execution_count": null,
   "id": "db178374-d9f2-4fd8-8bb6-034f0e6b03a4",
   "metadata": {},
   "outputs": [],
   "source": [
    "with sa.orm.Session(engine) as session:\n",
    "    stmt = (\n",
    "        sa.select(User.username, sa.func.count(Game.id).label(\"count\"))\n",
    "        .join(Game, sa.or_(Game.user1 == User.user_id, Game.user2 == User.user_id))\n",
    "        .group_by(User.username)\n",
    "        .order_by(sa.desc(\"count\"))\n",
    "    )\n",
    "    num_games_per_user = session.execute(stmt).all()"
   ]
  },
  {
   "cell_type": "code",
   "execution_count": null,
   "id": "84a84be2-8d2b-4460-ab44-388abbf61dc0",
   "metadata": {},
   "outputs": [],
   "source": [
    "usernames, num_games = zip(*num_games_per_user)\n",
    "fig, ax = plt.subplots(1,1, figsize=(16,8))\n",
    "plt.xticks(rotation='vertical')\n",
    "plt.bar(x=range(len(num_games_per_user)),height=num_games, log=True, tick_label=usernames)\n",
    "plt.ylabel(\"Number of games played\")\n",
    "plt.grid(axis=\"y\")\n",
    "fig.savefig(\"Num_games-played.png\", dpi=200,bbox_inches=\"tight\")"
   ]
  },
  {
   "cell_type": "code",
   "execution_count": null,
   "id": "335ea9ef-7f75-4695-aa27-2e80b51ceadf",
   "metadata": {},
   "outputs": [],
   "source": [
    "# get ranked users\n",
    "with sa.orm.Session(engine) as session:\n",
    "    stmt = sa.select(User).order_by((User.mu - User.sigma).desc())\n",
    "    ranking = session.scalars(stmt).all()\n",
    "n_users = len(ranking)"
   ]
  },
  {
   "cell_type": "code",
   "execution_count": null,
   "id": "2e07fd58-92bd-4a67-b97d-e01c1a0b9a70",
   "metadata": {},
   "outputs": [],
   "source": [
    "# get pairwise game statistics\n",
    "with sa.orm.Session(engine) as session:\n",
    "    user_pairwise_stats = get_user_pair_statistics(session, [user.user_id for user in ranking])"
   ]
  },
  {
   "cell_type": "code",
   "execution_count": null,
   "id": "27e7eb6c",
   "metadata": {
    "ExecuteTime": {
     "end_time": "2021-03-16T12:10:14.231295Z",
     "start_time": "2021-03-16T12:10:14.228003Z"
    }
   },
   "outputs": [],
   "source": [
    "lcb = np.asarray([user.mu - user.sigma for user in ranking])"
   ]
  },
  {
   "cell_type": "code",
   "execution_count": null,
   "id": "8a75fe79",
   "metadata": {
    "ExecuteTime": {
     "end_time": "2021-03-16T12:10:18.447060Z",
     "start_time": "2021-03-16T12:10:18.424430Z"
    }
   },
   "outputs": [],
   "source": [
    "results = np.zeros((n_users, n_users))\n",
    "for i, user1 in enumerate(ranking):\n",
    "    for j, user2 in enumerate(ranking):\n",
    "        if user1 == user2:\n",
    "            continue\n",
    "\n",
    "        entry = user_pairwise_stats[(user1.user_id, user2.user_id)]\n",
    "        n_total = entry['wins'] + entry['losses'] + entry['draws']\n",
    "        if n_total > 0:\n",
    "            results[i][j] = entry['wins'] / n_total"
   ]
  },
  {
   "cell_type": "code",
   "execution_count": null,
   "id": "cb1827a0",
   "metadata": {
    "ExecuteTime": {
     "end_time": "2021-03-16T12:10:24.682219Z",
     "start_time": "2021-03-16T12:10:18.449613Z"
    }
   },
   "outputs": [],
   "source": [
    "fig, ax = plt.subplots(1,1, figsize=(20,18))\n",
    "sns.heatmap(\n",
    "    results,\n",
    "    yticklabels=[user.username for user in ranking],\n",
    "    xticklabels=[user.username for user in ranking],\n",
    "    cmap='inferno',\n",
    ")\n",
    "ax.set_title('Win Rate')\n",
    "fig.savefig(\"Win-matrix.png\", dpi=200, bbox_inches=\"tight\")"
   ]
  },
  {
   "cell_type": "code",
   "execution_count": null,
   "id": "6aa9b86c",
   "metadata": {
    "ExecuteTime": {
     "end_time": "2021-03-16T10:22:44.412857Z",
     "start_time": "2021-03-16T10:22:44.410861Z"
    }
   },
   "outputs": [],
   "source": [
    "# Only-win-loose ratio"
   ]
  },
  {
   "cell_type": "code",
   "execution_count": null,
   "id": "bec31875",
   "metadata": {
    "ExecuteTime": {
     "end_time": "2021-03-16T10:22:44.449669Z",
     "start_time": "2021-03-16T10:22:44.414335Z"
    }
   },
   "outputs": [],
   "source": [
    "results = np.zeros((n_users, n_users))\n",
    "for i, user1 in enumerate(ranking):\n",
    "    for j, user2 in enumerate(ranking):\n",
    "        if user1 == user2:\n",
    "            continue\n",
    "\n",
    "        entry = user_pairwise_stats[(user1.user_id, user2.user_id)]\n",
    "        n_total = entry['wins'] + entry['losses']\n",
    "        if n_total > 0:\n",
    "            results[i][j] = entry['wins'] / n_total"
   ]
  },
  {
   "cell_type": "code",
   "execution_count": null,
   "id": "ad014c8c",
   "metadata": {
    "ExecuteTime": {
     "end_time": "2021-03-16T10:22:50.524473Z",
     "start_time": "2021-03-16T10:22:44.452116Z"
    }
   },
   "outputs": [],
   "source": [
    "fig, ax = plt.subplots(1,1, figsize=(20,18))\n",
    "sns.heatmap(\n",
    "    results,\n",
    "    yticklabels=[user.username for user in ranking],\n",
    "    xticklabels=[user.username for user in ranking],\n",
    "    cmap='inferno',\n",
    ")\n",
    "ax.set_title('Win vs Lose - Rate')\n",
    "fig.savefig(\"Win-lose-matrix.png\", dpi=200, bbox_inches=\"tight\")"
   ]
  },
  {
   "cell_type": "code",
   "execution_count": null,
   "id": "225721f5-9a34-4b09-bc67-f0356b8d5ac7",
   "metadata": {},
   "outputs": [],
   "source": [
    "# Reduce ranking to top users\n",
    "n_users = 15\n",
    "ranking = ranking[:n_users]"
   ]
  },
  {
   "cell_type": "code",
   "execution_count": null,
   "id": "0c971500-af48-474b-aa6a-248c1a1a8a5e",
   "metadata": {},
   "outputs": [],
   "source": [
    "results = np.zeros((n_users, n_users))\n",
    "for i, user1 in enumerate(ranking):\n",
    "    for j, user2 in enumerate(ranking):\n",
    "        if user1 == user2:\n",
    "            continue\n",
    "\n",
    "        entry = user_pairwise_stats[(user1.user_id, user2.user_id)]\n",
    "        n_total = entry['wins'] + entry['losses']\n",
    "        if n_total > 0:\n",
    "            results[i][j] = entry['wins'] / n_total"
   ]
  },
  {
   "cell_type": "code",
   "execution_count": null,
   "id": "bf9041d2",
   "metadata": {
    "ExecuteTime": {
     "end_time": "2021-03-16T11:05:09.438908Z",
     "start_time": "2021-03-16T11:05:08.900953Z"
    }
   },
   "outputs": [],
   "source": [
    "fig, ax = plt.subplots(1,1, figsize=(8,7))\n",
    "sns.heatmap(\n",
    "    results,\n",
    "    yticklabels=[user.username for user in ranking],\n",
    "    xticklabels=[user.username for user in ranking],\n",
    "    cmap='inferno',\n",
    "    square=True,\n",
    ")\n",
    "ax.set_title('Win vs Lose - Rate')\n",
    "fig.savefig(\"Win-lose-matrix-Top10.png\", dpi=200, bbox_inches=\"tight\")"
   ]
  },
  {
   "cell_type": "code",
   "execution_count": null,
   "id": "7e203916",
   "metadata": {
    "ExecuteTime": {
     "end_time": "2021-03-16T11:05:31.145567Z",
     "start_time": "2021-03-16T11:05:31.138113Z"
    }
   },
   "outputs": [],
   "source": [
    "results = np.zeros((n_users, n_users))\n",
    "for i, user1 in enumerate(ranking):\n",
    "    for j, user2 in enumerate(ranking):\n",
    "        if user1 == user2:\n",
    "            continue\n",
    "            \n",
    "        entry = user_pairwise_stats[(user1.user_id, user2.user_id)]\n",
    "        results[i][j] = np.log10(entry['wins'] + entry['losses'] +  entry['draws']+1)"
   ]
  },
  {
   "cell_type": "code",
   "execution_count": null,
   "id": "f1b38c6f",
   "metadata": {
    "ExecuteTime": {
     "end_time": "2021-03-16T11:06:27.790008Z",
     "start_time": "2021-03-16T11:06:27.233801Z"
    }
   },
   "outputs": [],
   "source": [
    "fig, ax = plt.subplots(1,1, figsize=(8,7))\n",
    "sns.heatmap(\n",
    "    results,\n",
    "    yticklabels=[user.username for user in ranking],\n",
    "    xticklabels=[user.username for user in ranking],\n",
    "    cmap='inferno',\n",
    "    square=True,\n",
    ")\n",
    "ax.set_title('Number of games played (log10)')\n",
    "fig.savefig(\"games-played-Top10.png\", dpi=200, bbox_inches=\"tight\")"
   ]
  }
 ],
 "metadata": {
  "kernelspec": {
   "display_name": "Python 3 (ipykernel)",
   "language": "python",
   "name": "python3"
  },
  "language_info": {
   "codemirror_mode": {
    "name": "ipython",
    "version": 3
   },
   "file_extension": ".py",
   "mimetype": "text/x-python",
   "name": "python",
   "nbconvert_exporter": "python",
   "pygments_lexer": "ipython3",
   "version": "3.12.3"
  }
 },
 "nbformat": 4,
 "nbformat_minor": 5
}
